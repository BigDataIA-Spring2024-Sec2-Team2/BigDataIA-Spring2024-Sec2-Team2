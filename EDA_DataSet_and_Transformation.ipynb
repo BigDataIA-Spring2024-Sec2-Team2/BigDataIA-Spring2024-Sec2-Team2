{
  "nbformat": 4,
  "nbformat_minor": 0,
  "metadata": {
    "colab": {
      "provenance": []
    },
    "kernelspec": {
      "name": "python3",
      "display_name": "Python 3"
    },
    "language_info": {
      "name": "python"
    }
  },
  "cells": [
    {
      "cell_type": "markdown",
      "source": [
        "# **Real-Time Stock Market Analytics: Leveraging Big Data for Predictive Insights**"
      ],
      "metadata": {
        "id": "YJ60juPs1LdW"
      }
    },
    {
      "cell_type": "markdown",
      "source": [
        "## Data collection is vital for our stock price prediction project, involving the acquisition of historical market data from Yahoo Finance API and real-time insights from the Finviz website. Historical data offers insights into long-term trends, while real-time data captures immediate market sentiments. By integrating these sources, we aim to build a comprehensive dataset. This section outlines our methodologies and tools for gathering and integrating data."
      ],
      "metadata": {
        "id": "iGauaBF-hPS2"
      }
    },
    {
      "cell_type": "markdown",
      "source": [
        "# 1. Historical data Collection"
      ],
      "metadata": {
        "id": "Ia7FXE3ehQCM"
      }
    },
    {
      "cell_type": "markdown",
      "source": [
        "\n",
        "## yahoo Finance is being used for collecting historical data of stocks\n",
        "\n",
        "\n",
        "### 1. Utilizing the Yahoo Finance API to retrieve historical stock market data spanning the past five years.\n",
        "### 2. Specifying the desired stocks.\n",
        "### 3. Extracting relevant information such as opening price, closing price, high, low, volume, and adjusted close for each specified stock or index.\n",
        "### 4. Storing the collected data in a structured format, for further processing and analysis.\n"
      ],
      "metadata": {
        "id": "G45YxClpeII0"
      }
    },
    {
      "cell_type": "code",
      "source": [
        "# Installing necessary library\n",
        "!pip install yfinance"
      ],
      "metadata": {
        "colab": {
          "base_uri": "https://localhost:8080/"
        },
        "id": "H8NmpnDteKp0",
        "outputId": "6a350423-f7ac-40c7-c963-fbb23b59df6b"
      },
      "execution_count": 1,
      "outputs": [
        {
          "output_type": "stream",
          "name": "stdout",
          "text": [
            "Requirement already satisfied: yfinance in /usr/local/lib/python3.10/dist-packages (0.2.37)\n",
            "Requirement already satisfied: pandas>=1.3.0 in /usr/local/lib/python3.10/dist-packages (from yfinance) (2.0.3)\n",
            "Requirement already satisfied: numpy>=1.16.5 in /usr/local/lib/python3.10/dist-packages (from yfinance) (1.25.2)\n",
            "Requirement already satisfied: requests>=2.31 in /usr/local/lib/python3.10/dist-packages (from yfinance) (2.31.0)\n",
            "Requirement already satisfied: multitasking>=0.0.7 in /usr/local/lib/python3.10/dist-packages (from yfinance) (0.0.11)\n",
            "Requirement already satisfied: lxml>=4.9.1 in /usr/local/lib/python3.10/dist-packages (from yfinance) (4.9.4)\n",
            "Requirement already satisfied: appdirs>=1.4.4 in /usr/local/lib/python3.10/dist-packages (from yfinance) (1.4.4)\n",
            "Requirement already satisfied: pytz>=2022.5 in /usr/local/lib/python3.10/dist-packages (from yfinance) (2023.4)\n",
            "Requirement already satisfied: frozendict>=2.3.4 in /usr/local/lib/python3.10/dist-packages (from yfinance) (2.4.1)\n",
            "Requirement already satisfied: peewee>=3.16.2 in /usr/local/lib/python3.10/dist-packages (from yfinance) (3.17.1)\n",
            "Requirement already satisfied: beautifulsoup4>=4.11.1 in /usr/local/lib/python3.10/dist-packages (from yfinance) (4.12.3)\n",
            "Requirement already satisfied: html5lib>=1.1 in /usr/local/lib/python3.10/dist-packages (from yfinance) (1.1)\n",
            "Requirement already satisfied: soupsieve>1.2 in /usr/local/lib/python3.10/dist-packages (from beautifulsoup4>=4.11.1->yfinance) (2.5)\n",
            "Requirement already satisfied: six>=1.9 in /usr/local/lib/python3.10/dist-packages (from html5lib>=1.1->yfinance) (1.16.0)\n",
            "Requirement already satisfied: webencodings in /usr/local/lib/python3.10/dist-packages (from html5lib>=1.1->yfinance) (0.5.1)\n",
            "Requirement already satisfied: python-dateutil>=2.8.2 in /usr/local/lib/python3.10/dist-packages (from pandas>=1.3.0->yfinance) (2.8.2)\n",
            "Requirement already satisfied: tzdata>=2022.1 in /usr/local/lib/python3.10/dist-packages (from pandas>=1.3.0->yfinance) (2024.1)\n",
            "Requirement already satisfied: charset-normalizer<4,>=2 in /usr/local/lib/python3.10/dist-packages (from requests>=2.31->yfinance) (3.3.2)\n",
            "Requirement already satisfied: idna<4,>=2.5 in /usr/local/lib/python3.10/dist-packages (from requests>=2.31->yfinance) (3.6)\n",
            "Requirement already satisfied: urllib3<3,>=1.21.1 in /usr/local/lib/python3.10/dist-packages (from requests>=2.31->yfinance) (2.0.7)\n",
            "Requirement already satisfied: certifi>=2017.4.17 in /usr/local/lib/python3.10/dist-packages (from requests>=2.31->yfinance) (2024.2.2)\n"
          ]
        }
      ]
    },
    {
      "cell_type": "markdown",
      "source": [
        "## Importing necessary libraries"
      ],
      "metadata": {
        "id": "EZ53P8d4e3fa"
      }
    },
    {
      "cell_type": "code",
      "source": [
        "import yfinance as yf\n",
        "import pandas as pd\n",
        "import os\n",
        "import plotly.graph_objects as go"
      ],
      "metadata": {
        "id": "nu8fOZPFe7U7"
      },
      "execution_count": 2,
      "outputs": []
    },
    {
      "cell_type": "markdown",
      "source": [
        "# Defining stock names to get the historical data of past 5 years"
      ],
      "metadata": {
        "id": "VeKvqbymfDLu"
      }
    },
    {
      "cell_type": "markdown",
      "source": [
        "\n",
        "Below we are collecting data for past 5 years with below parameters.\n",
        "Parameters\n",
        "\n",
        "1.   **Date**: This column represents the date of the trading day.\n",
        "2.   **Open**: The opening price of the stock on the given trading day.\n",
        "3.   **High**: The highest price the stock reached during the trading day.\n",
        "4.   **Low**: The lowest price the stock reached during the trading day.\n",
        "5.   **Close**: The closing price of the stock on the given trading day.\n",
        "6.   **Adj Close**: The adjusted closing price takes into account any corporate actions that might affect the stock price, such as dividends or stock splits.\n",
        "7. Volume: The number of shares traded on the given trading day.\n",
        "\n",
        "\n",
        "\n",
        "\n",
        "\n",
        "\n",
        "## Below we are collecting data for 5 stocks for past 1 month"
      ],
      "metadata": {
        "id": "lSaZrYfyfWcl"
      }
    },
    {
      "cell_type": "code",
      "source": [
        "import yfinance as yf\n",
        "import pandas as pd\n",
        "\n",
        "dfs = []\n",
        "\n",
        "tickers = [\"AMZN\", \"AAPL\", \"GOOGL\", \"MSFT\", \"TSLA\"]\n",
        "\n",
        "start_date = \"2024-03-09\"\n",
        "end_date = \"2024-04-11\"\n",
        "\n",
        "for ticker in tickers:\n",
        "    data = yf.download(ticker, start=start_date, end=end_date, progress=False)\n",
        "    data['Stock'] = ticker\n",
        "    dfs.append(data)\n",
        "\n",
        "combined_data = pd.concat(dfs)\n",
        "print(f\"{'Stock':<8} {'Date':<12} {'Open':<12} {'High':<12} {'Low':<12} {'Close':<12} {'Adj Close':<12} {'Volume':<12}\")\n",
        "\n",
        "for index, row in combined_data.iterrows():\n",
        "    print(f\"{row['Stock']:<8} {index} {row['Open']:<12.6f} {row['High']:<12.6f} {row['Low']:<12.6f} {row['Close']:<12.6f} {row['Adj Close']:<12.6f} {row['Volume']:<12.1f}\")\n"
      ],
      "metadata": {
        "colab": {
          "base_uri": "https://localhost:8080/"
        },
        "id": "IOGBvII4fTIo",
        "outputId": "ad4d82d6-684e-4286-d844-d9e7490489bb"
      },
      "execution_count": 3,
      "outputs": [
        {
          "output_type": "stream",
          "name": "stdout",
          "text": [
            "Stock    Date         Open         High         Low          Close        Adj Close    Volume      \n",
            "AMZN     2024-03-11 00:00:00 174.309998   174.470001   171.470001   171.960007   171.960007   28484800.0  \n",
            "AMZN     2024-03-12 00:00:00 173.500000   176.759995   171.979996   175.389999   175.389999   36610600.0  \n",
            "AMZN     2024-03-13 00:00:00 175.899994   177.619995   175.550003   176.559998   176.559998   30772600.0  \n",
            "AMZN     2024-03-14 00:00:00 177.690002   179.529999   176.470001   178.750000   178.750000   43705800.0  \n",
            "AMZN     2024-03-15 00:00:00 176.639999   177.929993   173.899994   174.419998   174.419998   72115500.0  \n",
            "AMZN     2024-03-18 00:00:00 175.800003   176.690002   174.279999   174.479996   174.479996   31250700.0  \n",
            "AMZN     2024-03-19 00:00:00 174.220001   176.089996   173.520004   175.899994   175.899994   26880900.0  \n",
            "AMZN     2024-03-20 00:00:00 176.139999   178.529999   174.639999   178.149994   178.149994   29947200.0  \n",
            "AMZN     2024-03-21 00:00:00 179.990005   181.419998   178.149994   178.149994   178.149994   32824300.0  \n",
            "AMZN     2024-03-22 00:00:00 177.750000   179.259995   176.750000   178.869995   178.869995   27964100.0  \n",
            "AMZN     2024-03-25 00:00:00 178.009995   180.990005   177.240005   179.710007   179.710007   29815500.0  \n",
            "AMZN     2024-03-26 00:00:00 180.149994   180.449997   177.949997   178.300003   178.300003   29659000.0  \n",
            "AMZN     2024-03-27 00:00:00 179.880005   180.000000   177.309998   179.830002   179.830002   33272600.0  \n",
            "AMZN     2024-03-28 00:00:00 180.169998   181.699997   179.259995   180.380005   180.380005   38051600.0  \n",
            "AMZN     2024-04-01 00:00:00 180.789993   183.000000   179.949997   180.970001   180.970001   29174500.0  \n",
            "AMZN     2024-04-02 00:00:00 179.070007   180.789993   178.380005   180.690002   180.690002   32611500.0  \n",
            "AMZN     2024-04-03 00:00:00 179.899994   182.869995   179.800003   182.410004   182.410004   31046600.0  \n",
            "AMZN     2024-04-04 00:00:00 184.000000   185.100006   180.000000   180.000000   180.000000   41624300.0  \n",
            "AMZN     2024-04-05 00:00:00 182.380005   186.270004   181.970001   185.070007   185.070007   42335200.0  \n",
            "AMZN     2024-04-08 00:00:00 186.899994   187.289993   184.809998   185.190002   185.190002   39221300.0  \n",
            "AMZN     2024-04-09 00:00:00 187.240005   187.339996   184.199997   185.669998   185.669998   36546900.0  \n",
            "AMZN     2024-04-10 00:00:00 182.770004   186.270004   182.669998   185.949997   185.949997   35879200.0  \n",
            "AAPL     2024-03-11 00:00:00 172.940002   174.380005   172.050003   172.750000   172.750000   60139500.0  \n",
            "AAPL     2024-03-12 00:00:00 173.149994   174.029999   171.009995   173.229996   173.229996   59825400.0  \n",
            "AAPL     2024-03-13 00:00:00 172.770004   173.190002   170.759995   171.130005   171.130005   52488700.0  \n",
            "AAPL     2024-03-14 00:00:00 172.910004   174.309998   172.050003   173.000000   173.000000   72913500.0  \n",
            "AAPL     2024-03-15 00:00:00 171.169998   172.619995   170.289993   172.619995   172.619995   121664700.0 \n",
            "AAPL     2024-03-18 00:00:00 175.570007   177.710007   173.520004   173.720001   173.720001   75604200.0  \n",
            "AAPL     2024-03-19 00:00:00 174.339996   176.610001   173.029999   176.080002   176.080002   55215200.0  \n",
            "AAPL     2024-03-20 00:00:00 175.720001   178.669998   175.089996   178.669998   178.669998   53423100.0  \n",
            "AAPL     2024-03-21 00:00:00 177.050003   177.490005   170.839996   171.369995   171.369995   106181300.0 \n",
            "AAPL     2024-03-22 00:00:00 171.759995   173.050003   170.059998   172.279999   172.279999   71106600.0  \n",
            "AAPL     2024-03-25 00:00:00 170.570007   171.940002   169.449997   170.850006   170.850006   54288300.0  \n",
            "AAPL     2024-03-26 00:00:00 170.000000   171.419998   169.580002   169.710007   169.710007   57388400.0  \n",
            "AAPL     2024-03-27 00:00:00 170.410004   173.600006   170.110001   173.309998   173.309998   60273300.0  \n",
            "AAPL     2024-03-28 00:00:00 171.750000   172.229996   170.509995   171.479996   171.479996   65672700.0  \n",
            "AAPL     2024-04-01 00:00:00 171.190002   171.250000   169.479996   170.029999   170.029999   46240500.0  \n",
            "AAPL     2024-04-02 00:00:00 169.080002   169.339996   168.229996   168.839996   168.839996   49329500.0  \n",
            "AAPL     2024-04-03 00:00:00 168.789993   170.679993   168.580002   169.649994   169.649994   47691700.0  \n",
            "AAPL     2024-04-04 00:00:00 170.289993   171.919998   168.820007   168.820007   168.820007   53704400.0  \n",
            "AAPL     2024-04-05 00:00:00 169.589996   170.389999   168.949997   169.580002   169.580002   42055200.0  \n",
            "AAPL     2024-04-08 00:00:00 169.029999   169.199997   168.240005   168.449997   168.449997   37425500.0  \n",
            "AAPL     2024-04-09 00:00:00 168.699997   170.080002   168.350006   169.669998   169.669998   42451200.0  \n",
            "AAPL     2024-04-10 00:00:00 168.800003   169.089996   167.110001   167.779999   167.779999   49709300.0  \n",
            "GOOGL    2024-03-11 00:00:00 136.130005   139.100006   136.130005   137.669998   137.669998   32437800.0  \n",
            "GOOGL    2024-03-12 00:00:00 137.029999   139.380005   137.029999   138.500000   138.500000   27563400.0  \n",
            "GOOGL    2024-03-13 00:00:00 139.000000   141.089996   138.990005   139.789993   139.789993   23347200.0  \n",
            "GOOGL    2024-03-14 00:00:00 141.190002   143.589996   140.460007   143.100006   143.100006   42753400.0  \n",
            "GOOGL    2024-03-15 00:00:00 142.500000   143.179993   140.029999   141.179993   141.179993   49460600.0  \n",
            "GOOGL    2024-03-18 00:00:00 148.610001   152.149994   147.169998   147.679993   147.679993   69273700.0  \n",
            "GOOGL    2024-03-19 00:00:00 148.160004   148.789993   146.080002   147.029999   147.029999   24070400.0  \n",
            "GOOGL    2024-03-20 00:00:00 148.000000   148.860001   146.740005   148.740005   148.740005   21311500.0  \n",
            "GOOGL    2024-03-21 00:00:00 149.470001   150.369995   146.899994   147.600006   147.600006   24755600.0  \n",
            "GOOGL    2024-03-22 00:00:00 149.119995   151.580002   148.979996   150.770004   150.770004   29175700.0  \n",
            "GOOGL    2024-03-25 00:00:00 149.940002   150.380005   147.820007   150.070007   150.070007   19229300.0  \n",
            "GOOGL    2024-03-26 00:00:00 150.220001   152.259995   149.979996   150.669998   150.669998   22149100.0  \n",
            "GOOGL    2024-03-27 00:00:00 151.179993   151.639999   148.899994   150.869995   150.869995   22879200.0  \n",
            "GOOGL    2024-03-28 00:00:00 150.850006   151.429993   150.169998   150.929993   150.929993   24485400.0  \n",
            "GOOGL    2024-04-01 00:00:00 150.690002   155.740005   150.610001   155.490005   155.490005   31730800.0  \n",
            "GOOGL    2024-04-02 00:00:00 153.500000   154.699997   152.149994   154.559998   154.559998   24586000.0  \n",
            "GOOGL    2024-04-03 00:00:00 153.600006   155.080002   152.729996   154.919998   154.919998   24705000.0  \n",
            "GOOGL    2024-04-04 00:00:00 153.500000   154.770004   150.449997   150.529999   150.529999   34724700.0  \n",
            "GOOGL    2024-04-05 00:00:00 150.029999   153.419998   149.600006   152.500000   152.500000   23449300.0  \n",
            "GOOGL    2024-04-08 00:00:00 152.779999   155.270004   152.610001   154.850006   154.850006   20702000.0  \n",
            "GOOGL    2024-04-09 00:00:00 156.089996   158.559998   155.190002   156.600006   156.600006   31113000.0  \n",
            "GOOGL    2024-04-10 00:00:00 156.210007   156.610001   154.679993   156.139999   156.139999   22838600.0  \n",
            "MSFT     2024-03-11 00:00:00 403.760010   405.679993   401.260010   404.519989   404.519989   16120800.0  \n",
            "MSFT     2024-03-12 00:00:00 407.619995   415.570007   406.790009   415.279999   415.279999   22457000.0  \n",
            "MSFT     2024-03-13 00:00:00 418.100006   418.179993   411.450012   415.100006   415.100006   17115900.0  \n",
            "MSFT     2024-03-14 00:00:00 420.239990   427.820007   417.989990   425.220001   425.220001   34157300.0  \n",
            "MSFT     2024-03-15 00:00:00 419.290009   422.600006   412.790009   416.420013   416.420013   45049800.0  \n",
            "MSFT     2024-03-18 00:00:00 414.250000   420.730011   413.779999   417.320007   417.320007   20106000.0  \n",
            "MSFT     2024-03-19 00:00:00 417.829987   421.670013   415.549988   421.410004   421.410004   19837900.0  \n",
            "MSFT     2024-03-20 00:00:00 422.000000   425.959991   420.660004   425.230011   425.230011   17860100.0  \n",
            "MSFT     2024-03-21 00:00:00 429.829987   430.820007   427.160004   429.369995   429.369995   21296200.0  \n",
            "MSFT     2024-03-22 00:00:00 429.700012   429.859985   426.070007   428.739990   428.739990   17636500.0  \n",
            "MSFT     2024-03-25 00:00:00 425.239990   427.410004   421.609985   422.859985   422.859985   18060500.0  \n",
            "MSFT     2024-03-26 00:00:00 425.609985   425.989990   421.350006   421.649994   421.649994   16725600.0  \n",
            "MSFT     2024-03-27 00:00:00 424.440002   424.450012   419.010010   421.429993   421.429993   16705000.0  \n",
            "MSFT     2024-03-28 00:00:00 420.959991   421.869995   419.119995   420.720001   420.720001   21871200.0  \n",
            "MSFT     2024-04-01 00:00:00 423.950012   427.890015   422.220001   424.570007   424.570007   16316000.0  \n",
            "MSFT     2024-04-02 00:00:00 420.109985   422.380005   417.839996   421.440002   421.440002   17912000.0  \n",
            "MSFT     2024-04-03 00:00:00 419.730011   423.260010   419.089996   420.450012   420.450012   16502300.0  \n",
            "MSFT     2024-04-04 00:00:00 424.989990   428.670013   417.570007   417.880005   417.880005   19370900.0  \n",
            "MSFT     2024-04-05 00:00:00 420.010010   426.510010   418.320007   425.519989   425.519989   16544300.0  \n",
            "MSFT     2024-04-08 00:00:00 425.170013   427.279999   423.299988   424.589996   424.589996   14272400.0  \n",
            "MSFT     2024-04-09 00:00:00 426.440002   427.739990   421.619995   426.279999   426.279999   12512300.0  \n",
            "MSFT     2024-04-10 00:00:00 422.190002   424.029999   419.700012   423.260010   423.260010   16216600.0  \n",
            "TSLA     2024-03-11 00:00:00 175.449997   182.869995   174.800003   177.770004   177.770004   85391500.0  \n",
            "TSLA     2024-03-12 00:00:00 177.770004   179.429993   172.410004   177.539993   177.539993   87391700.0  \n",
            "TSLA     2024-03-13 00:00:00 173.050003   176.050003   169.149994   169.479996   169.479996   106524500.0 \n",
            "TSLA     2024-03-14 00:00:00 167.770004   171.169998   160.509995   162.500000   162.500000   126325700.0 \n",
            "TSLA     2024-03-15 00:00:00 163.160004   165.179993   160.759995   163.570007   163.570007   96971900.0  \n",
            "TSLA     2024-03-18 00:00:00 170.020004   174.720001   165.899994   173.800003   173.800003   108214400.0 \n",
            "TSLA     2024-03-19 00:00:00 172.360001   172.820007   167.419998   171.320007   171.320007   77271400.0  \n",
            "TSLA     2024-03-20 00:00:00 173.000000   176.250000   170.820007   175.660004   175.660004   83846700.0  \n",
            "TSLA     2024-03-21 00:00:00 176.389999   178.179993   171.800003   172.820007   172.820007   73178000.0  \n",
            "TSLA     2024-03-22 00:00:00 166.690002   171.199997   166.300003   170.830002   170.830002   75454700.0  \n",
            "TSLA     2024-03-25 00:00:00 168.759995   175.240005   168.729996   172.630005   172.630005   74228600.0  \n",
            "TSLA     2024-03-26 00:00:00 178.580002   184.250000   177.380005   177.669998   177.669998   113186200.0 \n",
            "TSLA     2024-03-27 00:00:00 181.410004   181.910004   176.000000   179.830002   179.830002   81804000.0  \n",
            "TSLA     2024-03-28 00:00:00 177.449997   179.570007   175.300003   175.789993   175.789993   77654800.0  \n",
            "TSLA     2024-04-01 00:00:00 176.169998   176.750000   170.210007   175.220001   175.220001   81562100.0  \n",
            "TSLA     2024-04-02 00:00:00 164.750000   167.690002   163.429993   166.630005   166.630005   116650600.0 \n",
            "TSLA     2024-04-03 00:00:00 164.020004   168.820007   163.279999   168.380005   168.380005   82950100.0  \n",
            "TSLA     2024-04-04 00:00:00 170.070007   177.190002   168.009995   171.110001   171.110001   123162000.0 \n",
            "TSLA     2024-04-05 00:00:00 169.080002   170.860001   160.509995   164.899994   164.899994   141250700.0 \n",
            "TSLA     2024-04-08 00:00:00 169.339996   174.500000   167.789993   172.979996   172.979996   104423300.0 \n",
            "TSLA     2024-04-09 00:00:00 172.910004   179.220001   171.919998   176.880005   176.880005   103232700.0 \n",
            "TSLA     2024-04-10 00:00:00 173.039993   174.929993   170.009995   171.759995   171.759995   84532400.0  \n"
          ]
        }
      ]
    },
    {
      "cell_type": "markdown",
      "source": [
        "## Data Visualization for past 1 month for Amazon stock\n",
        "\n",
        "### Using Plotly library creating a candlestick chart. A candlestick chart is a type of financial chart that shows the open, high, low, and close prices of a security for a specific time period. Each \"candlestick\" represents one trading day.\n",
        "\n",
        "## E.g. Amazon"
      ],
      "metadata": {
        "id": "U1FqXx4XfxZg"
      }
    },
    {
      "cell_type": "code",
      "source": [
        "ticker = \"AMZN\"\n",
        "start_date = \"2024-03-09\"\n",
        "end_date = \"2024-04-11\"\n",
        "\n",
        "data = yf.download(ticker, start=start_date, end=end_date, progress=False)\n",
        "\n",
        "df = pd.DataFrame(data)\n",
        "\n",
        "\n",
        "df['date'] = pd.to_datetime(df.index)\n",
        "\n",
        "fig = go.Figure(data = [go.Candlestick(x=df['date'],\n",
        "                                       open=df['Open'],\n",
        "                                       high=df['High'],\n",
        "                                       low=df['Low'],\n",
        "                                       close=df['Close']\n",
        "                                       )])\n",
        "\n",
        "fig.update_layout(\n",
        "    title='Stock Price Chart AAPL',\n",
        "    yaxis_title = 'Price ($)',\n",
        "    xaxis_rangeslider_visible = False\n",
        ")\n",
        "\n",
        "fig.show()"
      ],
      "metadata": {
        "colab": {
          "base_uri": "https://localhost:8080/",
          "height": 542
        },
        "id": "2d1zpQKbfzPq",
        "outputId": "63eaef6e-69ad-48a3-8fcf-c35a4d6ba7c8"
      },
      "execution_count": 4,
      "outputs": [
        {
          "output_type": "display_data",
          "data": {
            "text/html": [
              "<html>\n",
              "<head><meta charset=\"utf-8\" /></head>\n",
              "<body>\n",
              "    <div>            <script src=\"https://cdnjs.cloudflare.com/ajax/libs/mathjax/2.7.5/MathJax.js?config=TeX-AMS-MML_SVG\"></script><script type=\"text/javascript\">if (window.MathJax && window.MathJax.Hub && window.MathJax.Hub.Config) {window.MathJax.Hub.Config({SVG: {font: \"STIX-Web\"}});}</script>                <script type=\"text/javascript\">window.PlotlyConfig = {MathJaxConfig: 'local'};</script>\n",
              "        <script charset=\"utf-8\" src=\"https://cdn.plot.ly/plotly-2.24.1.min.js\"></script>                <div id=\"520e3a92-7f5a-4dd3-b174-54925c7c26e0\" class=\"plotly-graph-div\" style=\"height:525px; width:100%;\"></div>            <script type=\"text/javascript\">                                    window.PLOTLYENV=window.PLOTLYENV || {};                                    if (document.getElementById(\"520e3a92-7f5a-4dd3-b174-54925c7c26e0\")) {                    Plotly.newPlot(                        \"520e3a92-7f5a-4dd3-b174-54925c7c26e0\",                        [{\"close\":[171.9600067138672,175.38999938964844,176.55999755859375,178.75,174.4199981689453,174.47999572753906,175.89999389648438,178.14999389648438,178.14999389648438,178.8699951171875,179.7100067138672,178.3000030517578,179.8300018310547,180.3800048828125,180.97000122070312,180.69000244140625,182.41000366210938,180.0,185.07000732421875,185.19000244140625,185.6699981689453,185.9499969482422],\"high\":[174.47000122070312,176.75999450683594,177.6199951171875,179.52999877929688,177.92999267578125,176.69000244140625,176.08999633789062,178.52999877929688,181.4199981689453,179.25999450683594,180.99000549316406,180.4499969482422,180.0,181.6999969482422,183.0,180.7899932861328,182.8699951171875,185.10000610351562,186.27000427246094,187.2899932861328,187.33999633789062,186.27000427246094],\"low\":[171.47000122070312,171.97999572753906,175.5500030517578,176.47000122070312,173.89999389648438,174.27999877929688,173.52000427246094,174.63999938964844,178.14999389648438,176.75,177.24000549316406,177.9499969482422,177.30999755859375,179.25999450683594,179.9499969482422,178.3800048828125,179.8000030517578,180.0,181.97000122070312,184.80999755859375,184.1999969482422,182.6699981689453],\"open\":[174.30999755859375,173.5,175.89999389648438,177.69000244140625,176.63999938964844,175.8000030517578,174.22000122070312,176.13999938964844,179.99000549316406,177.75,178.00999450683594,180.14999389648438,179.8800048828125,180.1699981689453,180.7899932861328,179.07000732421875,179.89999389648438,184.0,182.3800048828125,186.89999389648438,187.24000549316406,182.77000427246094],\"x\":[\"2024-03-11T00:00:00\",\"2024-03-12T00:00:00\",\"2024-03-13T00:00:00\",\"2024-03-14T00:00:00\",\"2024-03-15T00:00:00\",\"2024-03-18T00:00:00\",\"2024-03-19T00:00:00\",\"2024-03-20T00:00:00\",\"2024-03-21T00:00:00\",\"2024-03-22T00:00:00\",\"2024-03-25T00:00:00\",\"2024-03-26T00:00:00\",\"2024-03-27T00:00:00\",\"2024-03-28T00:00:00\",\"2024-04-01T00:00:00\",\"2024-04-02T00:00:00\",\"2024-04-03T00:00:00\",\"2024-04-04T00:00:00\",\"2024-04-05T00:00:00\",\"2024-04-08T00:00:00\",\"2024-04-09T00:00:00\",\"2024-04-10T00:00:00\"],\"type\":\"candlestick\"}],                        {\"template\":{\"data\":{\"histogram2dcontour\":[{\"type\":\"histogram2dcontour\",\"colorbar\":{\"outlinewidth\":0,\"ticks\":\"\"},\"colorscale\":[[0.0,\"#0d0887\"],[0.1111111111111111,\"#46039f\"],[0.2222222222222222,\"#7201a8\"],[0.3333333333333333,\"#9c179e\"],[0.4444444444444444,\"#bd3786\"],[0.5555555555555556,\"#d8576b\"],[0.6666666666666666,\"#ed7953\"],[0.7777777777777778,\"#fb9f3a\"],[0.8888888888888888,\"#fdca26\"],[1.0,\"#f0f921\"]]}],\"choropleth\":[{\"type\":\"choropleth\",\"colorbar\":{\"outlinewidth\":0,\"ticks\":\"\"}}],\"histogram2d\":[{\"type\":\"histogram2d\",\"colorbar\":{\"outlinewidth\":0,\"ticks\":\"\"},\"colorscale\":[[0.0,\"#0d0887\"],[0.1111111111111111,\"#46039f\"],[0.2222222222222222,\"#7201a8\"],[0.3333333333333333,\"#9c179e\"],[0.4444444444444444,\"#bd3786\"],[0.5555555555555556,\"#d8576b\"],[0.6666666666666666,\"#ed7953\"],[0.7777777777777778,\"#fb9f3a\"],[0.8888888888888888,\"#fdca26\"],[1.0,\"#f0f921\"]]}],\"heatmap\":[{\"type\":\"heatmap\",\"colorbar\":{\"outlinewidth\":0,\"ticks\":\"\"},\"colorscale\":[[0.0,\"#0d0887\"],[0.1111111111111111,\"#46039f\"],[0.2222222222222222,\"#7201a8\"],[0.3333333333333333,\"#9c179e\"],[0.4444444444444444,\"#bd3786\"],[0.5555555555555556,\"#d8576b\"],[0.6666666666666666,\"#ed7953\"],[0.7777777777777778,\"#fb9f3a\"],[0.8888888888888888,\"#fdca26\"],[1.0,\"#f0f921\"]]}],\"heatmapgl\":[{\"type\":\"heatmapgl\",\"colorbar\":{\"outlinewidth\":0,\"ticks\":\"\"},\"colorscale\":[[0.0,\"#0d0887\"],[0.1111111111111111,\"#46039f\"],[0.2222222222222222,\"#7201a8\"],[0.3333333333333333,\"#9c179e\"],[0.4444444444444444,\"#bd3786\"],[0.5555555555555556,\"#d8576b\"],[0.6666666666666666,\"#ed7953\"],[0.7777777777777778,\"#fb9f3a\"],[0.8888888888888888,\"#fdca26\"],[1.0,\"#f0f921\"]]}],\"contourcarpet\":[{\"type\":\"contourcarpet\",\"colorbar\":{\"outlinewidth\":0,\"ticks\":\"\"}}],\"contour\":[{\"type\":\"contour\",\"colorbar\":{\"outlinewidth\":0,\"ticks\":\"\"},\"colorscale\":[[0.0,\"#0d0887\"],[0.1111111111111111,\"#46039f\"],[0.2222222222222222,\"#7201a8\"],[0.3333333333333333,\"#9c179e\"],[0.4444444444444444,\"#bd3786\"],[0.5555555555555556,\"#d8576b\"],[0.6666666666666666,\"#ed7953\"],[0.7777777777777778,\"#fb9f3a\"],[0.8888888888888888,\"#fdca26\"],[1.0,\"#f0f921\"]]}],\"surface\":[{\"type\":\"surface\",\"colorbar\":{\"outlinewidth\":0,\"ticks\":\"\"},\"colorscale\":[[0.0,\"#0d0887\"],[0.1111111111111111,\"#46039f\"],[0.2222222222222222,\"#7201a8\"],[0.3333333333333333,\"#9c179e\"],[0.4444444444444444,\"#bd3786\"],[0.5555555555555556,\"#d8576b\"],[0.6666666666666666,\"#ed7953\"],[0.7777777777777778,\"#fb9f3a\"],[0.8888888888888888,\"#fdca26\"],[1.0,\"#f0f921\"]]}],\"mesh3d\":[{\"type\":\"mesh3d\",\"colorbar\":{\"outlinewidth\":0,\"ticks\":\"\"}}],\"scatter\":[{\"fillpattern\":{\"fillmode\":\"overlay\",\"size\":10,\"solidity\":0.2},\"type\":\"scatter\"}],\"parcoords\":[{\"type\":\"parcoords\",\"line\":{\"colorbar\":{\"outlinewidth\":0,\"ticks\":\"\"}}}],\"scatterpolargl\":[{\"type\":\"scatterpolargl\",\"marker\":{\"colorbar\":{\"outlinewidth\":0,\"ticks\":\"\"}}}],\"bar\":[{\"error_x\":{\"color\":\"#2a3f5f\"},\"error_y\":{\"color\":\"#2a3f5f\"},\"marker\":{\"line\":{\"color\":\"#E5ECF6\",\"width\":0.5},\"pattern\":{\"fillmode\":\"overlay\",\"size\":10,\"solidity\":0.2}},\"type\":\"bar\"}],\"scattergeo\":[{\"type\":\"scattergeo\",\"marker\":{\"colorbar\":{\"outlinewidth\":0,\"ticks\":\"\"}}}],\"scatterpolar\":[{\"type\":\"scatterpolar\",\"marker\":{\"colorbar\":{\"outlinewidth\":0,\"ticks\":\"\"}}}],\"histogram\":[{\"marker\":{\"pattern\":{\"fillmode\":\"overlay\",\"size\":10,\"solidity\":0.2}},\"type\":\"histogram\"}],\"scattergl\":[{\"type\":\"scattergl\",\"marker\":{\"colorbar\":{\"outlinewidth\":0,\"ticks\":\"\"}}}],\"scatter3d\":[{\"type\":\"scatter3d\",\"line\":{\"colorbar\":{\"outlinewidth\":0,\"ticks\":\"\"}},\"marker\":{\"colorbar\":{\"outlinewidth\":0,\"ticks\":\"\"}}}],\"scattermapbox\":[{\"type\":\"scattermapbox\",\"marker\":{\"colorbar\":{\"outlinewidth\":0,\"ticks\":\"\"}}}],\"scatterternary\":[{\"type\":\"scatterternary\",\"marker\":{\"colorbar\":{\"outlinewidth\":0,\"ticks\":\"\"}}}],\"scattercarpet\":[{\"type\":\"scattercarpet\",\"marker\":{\"colorbar\":{\"outlinewidth\":0,\"ticks\":\"\"}}}],\"carpet\":[{\"aaxis\":{\"endlinecolor\":\"#2a3f5f\",\"gridcolor\":\"white\",\"linecolor\":\"white\",\"minorgridcolor\":\"white\",\"startlinecolor\":\"#2a3f5f\"},\"baxis\":{\"endlinecolor\":\"#2a3f5f\",\"gridcolor\":\"white\",\"linecolor\":\"white\",\"minorgridcolor\":\"white\",\"startlinecolor\":\"#2a3f5f\"},\"type\":\"carpet\"}],\"table\":[{\"cells\":{\"fill\":{\"color\":\"#EBF0F8\"},\"line\":{\"color\":\"white\"}},\"header\":{\"fill\":{\"color\":\"#C8D4E3\"},\"line\":{\"color\":\"white\"}},\"type\":\"table\"}],\"barpolar\":[{\"marker\":{\"line\":{\"color\":\"#E5ECF6\",\"width\":0.5},\"pattern\":{\"fillmode\":\"overlay\",\"size\":10,\"solidity\":0.2}},\"type\":\"barpolar\"}],\"pie\":[{\"automargin\":true,\"type\":\"pie\"}]},\"layout\":{\"autotypenumbers\":\"strict\",\"colorway\":[\"#636efa\",\"#EF553B\",\"#00cc96\",\"#ab63fa\",\"#FFA15A\",\"#19d3f3\",\"#FF6692\",\"#B6E880\",\"#FF97FF\",\"#FECB52\"],\"font\":{\"color\":\"#2a3f5f\"},\"hovermode\":\"closest\",\"hoverlabel\":{\"align\":\"left\"},\"paper_bgcolor\":\"white\",\"plot_bgcolor\":\"#E5ECF6\",\"polar\":{\"bgcolor\":\"#E5ECF6\",\"angularaxis\":{\"gridcolor\":\"white\",\"linecolor\":\"white\",\"ticks\":\"\"},\"radialaxis\":{\"gridcolor\":\"white\",\"linecolor\":\"white\",\"ticks\":\"\"}},\"ternary\":{\"bgcolor\":\"#E5ECF6\",\"aaxis\":{\"gridcolor\":\"white\",\"linecolor\":\"white\",\"ticks\":\"\"},\"baxis\":{\"gridcolor\":\"white\",\"linecolor\":\"white\",\"ticks\":\"\"},\"caxis\":{\"gridcolor\":\"white\",\"linecolor\":\"white\",\"ticks\":\"\"}},\"coloraxis\":{\"colorbar\":{\"outlinewidth\":0,\"ticks\":\"\"}},\"colorscale\":{\"sequential\":[[0.0,\"#0d0887\"],[0.1111111111111111,\"#46039f\"],[0.2222222222222222,\"#7201a8\"],[0.3333333333333333,\"#9c179e\"],[0.4444444444444444,\"#bd3786\"],[0.5555555555555556,\"#d8576b\"],[0.6666666666666666,\"#ed7953\"],[0.7777777777777778,\"#fb9f3a\"],[0.8888888888888888,\"#fdca26\"],[1.0,\"#f0f921\"]],\"sequentialminus\":[[0.0,\"#0d0887\"],[0.1111111111111111,\"#46039f\"],[0.2222222222222222,\"#7201a8\"],[0.3333333333333333,\"#9c179e\"],[0.4444444444444444,\"#bd3786\"],[0.5555555555555556,\"#d8576b\"],[0.6666666666666666,\"#ed7953\"],[0.7777777777777778,\"#fb9f3a\"],[0.8888888888888888,\"#fdca26\"],[1.0,\"#f0f921\"]],\"diverging\":[[0,\"#8e0152\"],[0.1,\"#c51b7d\"],[0.2,\"#de77ae\"],[0.3,\"#f1b6da\"],[0.4,\"#fde0ef\"],[0.5,\"#f7f7f7\"],[0.6,\"#e6f5d0\"],[0.7,\"#b8e186\"],[0.8,\"#7fbc41\"],[0.9,\"#4d9221\"],[1,\"#276419\"]]},\"xaxis\":{\"gridcolor\":\"white\",\"linecolor\":\"white\",\"ticks\":\"\",\"title\":{\"standoff\":15},\"zerolinecolor\":\"white\",\"automargin\":true,\"zerolinewidth\":2},\"yaxis\":{\"gridcolor\":\"white\",\"linecolor\":\"white\",\"ticks\":\"\",\"title\":{\"standoff\":15},\"zerolinecolor\":\"white\",\"automargin\":true,\"zerolinewidth\":2},\"scene\":{\"xaxis\":{\"backgroundcolor\":\"#E5ECF6\",\"gridcolor\":\"white\",\"linecolor\":\"white\",\"showbackground\":true,\"ticks\":\"\",\"zerolinecolor\":\"white\",\"gridwidth\":2},\"yaxis\":{\"backgroundcolor\":\"#E5ECF6\",\"gridcolor\":\"white\",\"linecolor\":\"white\",\"showbackground\":true,\"ticks\":\"\",\"zerolinecolor\":\"white\",\"gridwidth\":2},\"zaxis\":{\"backgroundcolor\":\"#E5ECF6\",\"gridcolor\":\"white\",\"linecolor\":\"white\",\"showbackground\":true,\"ticks\":\"\",\"zerolinecolor\":\"white\",\"gridwidth\":2}},\"shapedefaults\":{\"line\":{\"color\":\"#2a3f5f\"}},\"annotationdefaults\":{\"arrowcolor\":\"#2a3f5f\",\"arrowhead\":0,\"arrowwidth\":1},\"geo\":{\"bgcolor\":\"white\",\"landcolor\":\"#E5ECF6\",\"subunitcolor\":\"white\",\"showland\":true,\"showlakes\":true,\"lakecolor\":\"white\"},\"title\":{\"x\":0.05},\"mapbox\":{\"style\":\"light\"}}},\"xaxis\":{\"rangeslider\":{\"visible\":false}},\"title\":{\"text\":\"Stock Price Chart AAPL\"},\"yaxis\":{\"title\":{\"text\":\"Price ($)\"}}},                        {\"responsive\": true}                    ).then(function(){\n",
              "                            \n",
              "var gd = document.getElementById('520e3a92-7f5a-4dd3-b174-54925c7c26e0');\n",
              "var x = new MutationObserver(function (mutations, observer) {{\n",
              "        var display = window.getComputedStyle(gd).display;\n",
              "        if (!display || display === 'none') {{\n",
              "            console.log([gd, 'removed!']);\n",
              "            Plotly.purge(gd);\n",
              "            observer.disconnect();\n",
              "        }}\n",
              "}});\n",
              "\n",
              "// Listen for the removal of the full notebook cells\n",
              "var notebookContainer = gd.closest('#notebook-container');\n",
              "if (notebookContainer) {{\n",
              "    x.observe(notebookContainer, {childList: true});\n",
              "}}\n",
              "\n",
              "// Listen for the clearing of the current output cell\n",
              "var outputEl = gd.closest('.output');\n",
              "if (outputEl) {{\n",
              "    x.observe(outputEl, {childList: true});\n",
              "}}\n",
              "\n",
              "                        })                };                            </script>        </div>\n",
              "</body>\n",
              "</html>"
            ]
          },
          "metadata": {}
        }
      ]
    },
    {
      "cell_type": "markdown",
      "source": [
        "## For better data visualization understanding - Data collection and Visualization for the current month for Amazon stock"
      ],
      "metadata": {
        "id": "fK7c-A0QgItG"
      }
    },
    {
      "cell_type": "markdown",
      "source": [
        "### This plot is showing candlestick chart representing the stock price movement of the ticker symbol \"AMZN\" for the date range from April 1, 2024, to April 11, 2024"
      ],
      "metadata": {
        "id": "SHoqYrVP5gl7"
      }
    },
    {
      "cell_type": "code",
      "source": [
        "ticker = \"AMZN\"\n",
        "start_date = \"2024-04-01\"\n",
        "end_date = \"2024-04-11\"\n",
        "data = yf.download(ticker, start=start_date, end=end_date, progress=False)\n",
        "print(f\"{'Date':<12} {'Open':<12} {'High':<12} {'Low':<12} {'Close':<12} {'Adj Close':<12} {'Volume':<12}\")\n",
        "\n",
        "for index, row in data.iterrows():\n",
        "    print(f\"{index} {row['Open']:<12.6f} {row['High']:<12.6f} {row['Low']:<12.6f} {row['Close']:<12.6f} {row['Adj Close']:<12.6f} {row['Volume']:<12.1f}\")\n",
        "\n",
        "# Plotting graph\n",
        "fig = go.Figure(data=[go.Candlestick(x=data.index,\n",
        "                                     open=data['Open'],\n",
        "                                     high=data['High'],\n",
        "                                     low=data['Low'],\n",
        "                                     close=data['Close'])])\n",
        "\n",
        "fig.update_layout(title=f\"Stock Price Chart for {ticker}\",\n",
        "                  xaxis_title=\"Date\",\n",
        "                  yaxis_title=\"Price ($)\",\n",
        "                  xaxis_rangeslider_visible=False)\n",
        "\n",
        "fig.show()"
      ],
      "metadata": {
        "colab": {
          "base_uri": "https://localhost:8080/",
          "height": 698
        },
        "id": "LbE41IQAgNoI",
        "outputId": "f0f909db-a643-461d-9602-0cba9e412a66"
      },
      "execution_count": 5,
      "outputs": [
        {
          "output_type": "stream",
          "name": "stdout",
          "text": [
            "Date         Open         High         Low          Close        Adj Close    Volume      \n",
            "2024-04-01 00:00:00 180.789993   183.000000   179.949997   180.970001   180.970001   29174500.0  \n",
            "2024-04-02 00:00:00 179.070007   180.789993   178.380005   180.690002   180.690002   32611500.0  \n",
            "2024-04-03 00:00:00 179.899994   182.869995   179.800003   182.410004   182.410004   31046600.0  \n",
            "2024-04-04 00:00:00 184.000000   185.100006   180.000000   180.000000   180.000000   41624300.0  \n",
            "2024-04-05 00:00:00 182.380005   186.270004   181.970001   185.070007   185.070007   42335200.0  \n",
            "2024-04-08 00:00:00 186.899994   187.289993   184.809998   185.190002   185.190002   39221300.0  \n",
            "2024-04-09 00:00:00 187.240005   187.339996   184.199997   185.669998   185.669998   36546900.0  \n",
            "2024-04-10 00:00:00 182.770004   186.270004   182.669998   185.949997   185.949997   35879200.0  \n"
          ]
        },
        {
          "output_type": "display_data",
          "data": {
            "text/html": [
              "<html>\n",
              "<head><meta charset=\"utf-8\" /></head>\n",
              "<body>\n",
              "    <div>            <script src=\"https://cdnjs.cloudflare.com/ajax/libs/mathjax/2.7.5/MathJax.js?config=TeX-AMS-MML_SVG\"></script><script type=\"text/javascript\">if (window.MathJax && window.MathJax.Hub && window.MathJax.Hub.Config) {window.MathJax.Hub.Config({SVG: {font: \"STIX-Web\"}});}</script>                <script type=\"text/javascript\">window.PlotlyConfig = {MathJaxConfig: 'local'};</script>\n",
              "        <script charset=\"utf-8\" src=\"https://cdn.plot.ly/plotly-2.24.1.min.js\"></script>                <div id=\"ca52e7a7-0c79-4358-85b1-45d384fe5861\" class=\"plotly-graph-div\" style=\"height:525px; width:100%;\"></div>            <script type=\"text/javascript\">                                    window.PLOTLYENV=window.PLOTLYENV || {};                                    if (document.getElementById(\"ca52e7a7-0c79-4358-85b1-45d384fe5861\")) {                    Plotly.newPlot(                        \"ca52e7a7-0c79-4358-85b1-45d384fe5861\",                        [{\"close\":[180.97000122070312,180.69000244140625,182.41000366210938,180.0,185.07000732421875,185.19000244140625,185.6699981689453,185.9499969482422],\"high\":[183.0,180.7899932861328,182.8699951171875,185.10000610351562,186.27000427246094,187.2899932861328,187.33999633789062,186.27000427246094],\"low\":[179.9499969482422,178.3800048828125,179.8000030517578,180.0,181.97000122070312,184.80999755859375,184.1999969482422,182.6699981689453],\"open\":[180.7899932861328,179.07000732421875,179.89999389648438,184.0,182.3800048828125,186.89999389648438,187.24000549316406,182.77000427246094],\"x\":[\"2024-04-01T00:00:00\",\"2024-04-02T00:00:00\",\"2024-04-03T00:00:00\",\"2024-04-04T00:00:00\",\"2024-04-05T00:00:00\",\"2024-04-08T00:00:00\",\"2024-04-09T00:00:00\",\"2024-04-10T00:00:00\"],\"type\":\"candlestick\"}],                        {\"template\":{\"data\":{\"histogram2dcontour\":[{\"type\":\"histogram2dcontour\",\"colorbar\":{\"outlinewidth\":0,\"ticks\":\"\"},\"colorscale\":[[0.0,\"#0d0887\"],[0.1111111111111111,\"#46039f\"],[0.2222222222222222,\"#7201a8\"],[0.3333333333333333,\"#9c179e\"],[0.4444444444444444,\"#bd3786\"],[0.5555555555555556,\"#d8576b\"],[0.6666666666666666,\"#ed7953\"],[0.7777777777777778,\"#fb9f3a\"],[0.8888888888888888,\"#fdca26\"],[1.0,\"#f0f921\"]]}],\"choropleth\":[{\"type\":\"choropleth\",\"colorbar\":{\"outlinewidth\":0,\"ticks\":\"\"}}],\"histogram2d\":[{\"type\":\"histogram2d\",\"colorbar\":{\"outlinewidth\":0,\"ticks\":\"\"},\"colorscale\":[[0.0,\"#0d0887\"],[0.1111111111111111,\"#46039f\"],[0.2222222222222222,\"#7201a8\"],[0.3333333333333333,\"#9c179e\"],[0.4444444444444444,\"#bd3786\"],[0.5555555555555556,\"#d8576b\"],[0.6666666666666666,\"#ed7953\"],[0.7777777777777778,\"#fb9f3a\"],[0.8888888888888888,\"#fdca26\"],[1.0,\"#f0f921\"]]}],\"heatmap\":[{\"type\":\"heatmap\",\"colorbar\":{\"outlinewidth\":0,\"ticks\":\"\"},\"colorscale\":[[0.0,\"#0d0887\"],[0.1111111111111111,\"#46039f\"],[0.2222222222222222,\"#7201a8\"],[0.3333333333333333,\"#9c179e\"],[0.4444444444444444,\"#bd3786\"],[0.5555555555555556,\"#d8576b\"],[0.6666666666666666,\"#ed7953\"],[0.7777777777777778,\"#fb9f3a\"],[0.8888888888888888,\"#fdca26\"],[1.0,\"#f0f921\"]]}],\"heatmapgl\":[{\"type\":\"heatmapgl\",\"colorbar\":{\"outlinewidth\":0,\"ticks\":\"\"},\"colorscale\":[[0.0,\"#0d0887\"],[0.1111111111111111,\"#46039f\"],[0.2222222222222222,\"#7201a8\"],[0.3333333333333333,\"#9c179e\"],[0.4444444444444444,\"#bd3786\"],[0.5555555555555556,\"#d8576b\"],[0.6666666666666666,\"#ed7953\"],[0.7777777777777778,\"#fb9f3a\"],[0.8888888888888888,\"#fdca26\"],[1.0,\"#f0f921\"]]}],\"contourcarpet\":[{\"type\":\"contourcarpet\",\"colorbar\":{\"outlinewidth\":0,\"ticks\":\"\"}}],\"contour\":[{\"type\":\"contour\",\"colorbar\":{\"outlinewidth\":0,\"ticks\":\"\"},\"colorscale\":[[0.0,\"#0d0887\"],[0.1111111111111111,\"#46039f\"],[0.2222222222222222,\"#7201a8\"],[0.3333333333333333,\"#9c179e\"],[0.4444444444444444,\"#bd3786\"],[0.5555555555555556,\"#d8576b\"],[0.6666666666666666,\"#ed7953\"],[0.7777777777777778,\"#fb9f3a\"],[0.8888888888888888,\"#fdca26\"],[1.0,\"#f0f921\"]]}],\"surface\":[{\"type\":\"surface\",\"colorbar\":{\"outlinewidth\":0,\"ticks\":\"\"},\"colorscale\":[[0.0,\"#0d0887\"],[0.1111111111111111,\"#46039f\"],[0.2222222222222222,\"#7201a8\"],[0.3333333333333333,\"#9c179e\"],[0.4444444444444444,\"#bd3786\"],[0.5555555555555556,\"#d8576b\"],[0.6666666666666666,\"#ed7953\"],[0.7777777777777778,\"#fb9f3a\"],[0.8888888888888888,\"#fdca26\"],[1.0,\"#f0f921\"]]}],\"mesh3d\":[{\"type\":\"mesh3d\",\"colorbar\":{\"outlinewidth\":0,\"ticks\":\"\"}}],\"scatter\":[{\"fillpattern\":{\"fillmode\":\"overlay\",\"size\":10,\"solidity\":0.2},\"type\":\"scatter\"}],\"parcoords\":[{\"type\":\"parcoords\",\"line\":{\"colorbar\":{\"outlinewidth\":0,\"ticks\":\"\"}}}],\"scatterpolargl\":[{\"type\":\"scatterpolargl\",\"marker\":{\"colorbar\":{\"outlinewidth\":0,\"ticks\":\"\"}}}],\"bar\":[{\"error_x\":{\"color\":\"#2a3f5f\"},\"error_y\":{\"color\":\"#2a3f5f\"},\"marker\":{\"line\":{\"color\":\"#E5ECF6\",\"width\":0.5},\"pattern\":{\"fillmode\":\"overlay\",\"size\":10,\"solidity\":0.2}},\"type\":\"bar\"}],\"scattergeo\":[{\"type\":\"scattergeo\",\"marker\":{\"colorbar\":{\"outlinewidth\":0,\"ticks\":\"\"}}}],\"scatterpolar\":[{\"type\":\"scatterpolar\",\"marker\":{\"colorbar\":{\"outlinewidth\":0,\"ticks\":\"\"}}}],\"histogram\":[{\"marker\":{\"pattern\":{\"fillmode\":\"overlay\",\"size\":10,\"solidity\":0.2}},\"type\":\"histogram\"}],\"scattergl\":[{\"type\":\"scattergl\",\"marker\":{\"colorbar\":{\"outlinewidth\":0,\"ticks\":\"\"}}}],\"scatter3d\":[{\"type\":\"scatter3d\",\"line\":{\"colorbar\":{\"outlinewidth\":0,\"ticks\":\"\"}},\"marker\":{\"colorbar\":{\"outlinewidth\":0,\"ticks\":\"\"}}}],\"scattermapbox\":[{\"type\":\"scattermapbox\",\"marker\":{\"colorbar\":{\"outlinewidth\":0,\"ticks\":\"\"}}}],\"scatterternary\":[{\"type\":\"scatterternary\",\"marker\":{\"colorbar\":{\"outlinewidth\":0,\"ticks\":\"\"}}}],\"scattercarpet\":[{\"type\":\"scattercarpet\",\"marker\":{\"colorbar\":{\"outlinewidth\":0,\"ticks\":\"\"}}}],\"carpet\":[{\"aaxis\":{\"endlinecolor\":\"#2a3f5f\",\"gridcolor\":\"white\",\"linecolor\":\"white\",\"minorgridcolor\":\"white\",\"startlinecolor\":\"#2a3f5f\"},\"baxis\":{\"endlinecolor\":\"#2a3f5f\",\"gridcolor\":\"white\",\"linecolor\":\"white\",\"minorgridcolor\":\"white\",\"startlinecolor\":\"#2a3f5f\"},\"type\":\"carpet\"}],\"table\":[{\"cells\":{\"fill\":{\"color\":\"#EBF0F8\"},\"line\":{\"color\":\"white\"}},\"header\":{\"fill\":{\"color\":\"#C8D4E3\"},\"line\":{\"color\":\"white\"}},\"type\":\"table\"}],\"barpolar\":[{\"marker\":{\"line\":{\"color\":\"#E5ECF6\",\"width\":0.5},\"pattern\":{\"fillmode\":\"overlay\",\"size\":10,\"solidity\":0.2}},\"type\":\"barpolar\"}],\"pie\":[{\"automargin\":true,\"type\":\"pie\"}]},\"layout\":{\"autotypenumbers\":\"strict\",\"colorway\":[\"#636efa\",\"#EF553B\",\"#00cc96\",\"#ab63fa\",\"#FFA15A\",\"#19d3f3\",\"#FF6692\",\"#B6E880\",\"#FF97FF\",\"#FECB52\"],\"font\":{\"color\":\"#2a3f5f\"},\"hovermode\":\"closest\",\"hoverlabel\":{\"align\":\"left\"},\"paper_bgcolor\":\"white\",\"plot_bgcolor\":\"#E5ECF6\",\"polar\":{\"bgcolor\":\"#E5ECF6\",\"angularaxis\":{\"gridcolor\":\"white\",\"linecolor\":\"white\",\"ticks\":\"\"},\"radialaxis\":{\"gridcolor\":\"white\",\"linecolor\":\"white\",\"ticks\":\"\"}},\"ternary\":{\"bgcolor\":\"#E5ECF6\",\"aaxis\":{\"gridcolor\":\"white\",\"linecolor\":\"white\",\"ticks\":\"\"},\"baxis\":{\"gridcolor\":\"white\",\"linecolor\":\"white\",\"ticks\":\"\"},\"caxis\":{\"gridcolor\":\"white\",\"linecolor\":\"white\",\"ticks\":\"\"}},\"coloraxis\":{\"colorbar\":{\"outlinewidth\":0,\"ticks\":\"\"}},\"colorscale\":{\"sequential\":[[0.0,\"#0d0887\"],[0.1111111111111111,\"#46039f\"],[0.2222222222222222,\"#7201a8\"],[0.3333333333333333,\"#9c179e\"],[0.4444444444444444,\"#bd3786\"],[0.5555555555555556,\"#d8576b\"],[0.6666666666666666,\"#ed7953\"],[0.7777777777777778,\"#fb9f3a\"],[0.8888888888888888,\"#fdca26\"],[1.0,\"#f0f921\"]],\"sequentialminus\":[[0.0,\"#0d0887\"],[0.1111111111111111,\"#46039f\"],[0.2222222222222222,\"#7201a8\"],[0.3333333333333333,\"#9c179e\"],[0.4444444444444444,\"#bd3786\"],[0.5555555555555556,\"#d8576b\"],[0.6666666666666666,\"#ed7953\"],[0.7777777777777778,\"#fb9f3a\"],[0.8888888888888888,\"#fdca26\"],[1.0,\"#f0f921\"]],\"diverging\":[[0,\"#8e0152\"],[0.1,\"#c51b7d\"],[0.2,\"#de77ae\"],[0.3,\"#f1b6da\"],[0.4,\"#fde0ef\"],[0.5,\"#f7f7f7\"],[0.6,\"#e6f5d0\"],[0.7,\"#b8e186\"],[0.8,\"#7fbc41\"],[0.9,\"#4d9221\"],[1,\"#276419\"]]},\"xaxis\":{\"gridcolor\":\"white\",\"linecolor\":\"white\",\"ticks\":\"\",\"title\":{\"standoff\":15},\"zerolinecolor\":\"white\",\"automargin\":true,\"zerolinewidth\":2},\"yaxis\":{\"gridcolor\":\"white\",\"linecolor\":\"white\",\"ticks\":\"\",\"title\":{\"standoff\":15},\"zerolinecolor\":\"white\",\"automargin\":true,\"zerolinewidth\":2},\"scene\":{\"xaxis\":{\"backgroundcolor\":\"#E5ECF6\",\"gridcolor\":\"white\",\"linecolor\":\"white\",\"showbackground\":true,\"ticks\":\"\",\"zerolinecolor\":\"white\",\"gridwidth\":2},\"yaxis\":{\"backgroundcolor\":\"#E5ECF6\",\"gridcolor\":\"white\",\"linecolor\":\"white\",\"showbackground\":true,\"ticks\":\"\",\"zerolinecolor\":\"white\",\"gridwidth\":2},\"zaxis\":{\"backgroundcolor\":\"#E5ECF6\",\"gridcolor\":\"white\",\"linecolor\":\"white\",\"showbackground\":true,\"ticks\":\"\",\"zerolinecolor\":\"white\",\"gridwidth\":2}},\"shapedefaults\":{\"line\":{\"color\":\"#2a3f5f\"}},\"annotationdefaults\":{\"arrowcolor\":\"#2a3f5f\",\"arrowhead\":0,\"arrowwidth\":1},\"geo\":{\"bgcolor\":\"white\",\"landcolor\":\"#E5ECF6\",\"subunitcolor\":\"white\",\"showland\":true,\"showlakes\":true,\"lakecolor\":\"white\"},\"title\":{\"x\":0.05},\"mapbox\":{\"style\":\"light\"}}},\"xaxis\":{\"rangeslider\":{\"visible\":false},\"title\":{\"text\":\"Date\"}},\"title\":{\"text\":\"Stock Price Chart for AMZN\"},\"yaxis\":{\"title\":{\"text\":\"Price ($)\"}}},                        {\"responsive\": true}                    ).then(function(){\n",
              "                            \n",
              "var gd = document.getElementById('ca52e7a7-0c79-4358-85b1-45d384fe5861');\n",
              "var x = new MutationObserver(function (mutations, observer) {{\n",
              "        var display = window.getComputedStyle(gd).display;\n",
              "        if (!display || display === 'none') {{\n",
              "            console.log([gd, 'removed!']);\n",
              "            Plotly.purge(gd);\n",
              "            observer.disconnect();\n",
              "        }}\n",
              "}});\n",
              "\n",
              "// Listen for the removal of the full notebook cells\n",
              "var notebookContainer = gd.closest('#notebook-container');\n",
              "if (notebookContainer) {{\n",
              "    x.observe(notebookContainer, {childList: true});\n",
              "}}\n",
              "\n",
              "// Listen for the clearing of the current output cell\n",
              "var outputEl = gd.closest('.output');\n",
              "if (outputEl) {{\n",
              "    x.observe(outputEl, {childList: true});\n",
              "}}\n",
              "\n",
              "                        })                };                            </script>        </div>\n",
              "</body>\n",
              "</html>"
            ]
          },
          "metadata": {}
        }
      ]
    },
    {
      "cell_type": "markdown",
      "source": [
        "## Performing Exploratory Data Analysis (EDA) in order to understand data more and find patterns and relationships in the data."
      ],
      "metadata": {
        "id": "nxgQn9R4NRtL"
      }
    },
    {
      "cell_type": "code",
      "source": [
        "import matplotlib.pyplot as plt\n",
        "import seaborn as sns\n",
        "import plotly.express as px\n",
        "\n",
        "\n",
        "plt.figure(figsize=(10, 6))\n",
        "sns.lineplot(x='Date', y='Close', data=data)\n",
        "plt.title('Closing Stock Price Over Time')\n",
        "plt.xlabel('Date')\n",
        "plt.ylabel('Closing Stock Price')\n",
        "plt.show()"
      ],
      "metadata": {
        "colab": {
          "base_uri": "https://localhost:8080/",
          "height": 564
        },
        "id": "6GqPykYBK6FE",
        "outputId": "1b0489d5-5e94-4f77-93cf-240e39038a77"
      },
      "execution_count": 6,
      "outputs": [
        {
          "output_type": "display_data",
          "data": {
            "text/plain": [
              "<Figure size 1000x600 with 1 Axes>"
            ],
            "image/png": "[encoded data removed]"
          },
          "metadata": {}
        }
      ]
    },
    {
      "cell_type": "markdown",
      "source": [
        "We can see in the above line plot that the closing stock prices have increased over time."
      ],
      "metadata": {
        "id": "RrLYotlVNTjG"
      }
    },
    {
      "cell_type": "code",
      "source": [
        "# Creating a heatmap of the correlation between stock prices\n",
        "corr = data[['Open', 'High', 'Low', 'Close']].corr()\n",
        "plt.figure(figsize=(8,8))\n",
        "sns.heatmap(corr, annot=True, cmap='coolwarm')\n",
        "plt.title('Correlation Between Stock Prices')\n",
        "plt.show()"
      ],
      "metadata": {
        "colab": {
          "base_uri": "https://localhost:8080/",
          "height": 699
        },
        "id": "ytpnodLTMIT3",
        "outputId": "ab601102-a84d-4a6d-ae52-aa80fe7727cd"
      },
      "execution_count": 7,
      "outputs": [
        {
          "output_type": "display_data",
          "data": {
            "text/plain": [
              "<Figure size 800x800 with 2 Axes>"
            ],
            "image/png": "[encoded data removed]"
          },
          "metadata": {}
        }
      ]
    },
    {
      "cell_type": "markdown",
      "source": [
        "From the heatmap, we can see that the opening and closing prices have a strong positive correlation, while the low and high prices have a weaker positive correlation."
      ],
      "metadata": {
        "id": "zTyUURTaNeHk"
      }
    },
    {
      "cell_type": "code",
      "source": [],
      "metadata": {
        "id": "opEKP5vmK6MO"
      },
      "execution_count": 7,
      "outputs": []
    },
    {
      "cell_type": "markdown",
      "source": [
        "# 2. Present news data Collection\n",
        "\n",
        "\n"
      ],
      "metadata": {
        "id": "vTAhDqe5hY1P"
      }
    },
    {
      "cell_type": "markdown",
      "source": [
        "## Real-Time Data Scraping from Finviz Website:"
      ],
      "metadata": {
        "id": "Jtn2Wmt7iH-m"
      }
    },
    {
      "cell_type": "markdown",
      "source": [
        "### Data will be scrapped for the stock and sentiment analysis will be performed based on current news\n",
        "\n",
        "### We are extracting stock sentiments from financial news headlines in the FinViz website using the NLP web scraping algorithm in Python.\n",
        "\n",
        "1. Employing web scraping techniques to gather real-time market insights from the Finviz website.\n",
        "2. Targeting relevant sections containing market news, sentiments, and factors impacting stock prices.\n",
        "3. Utilizing BeautifulSoup library in Python for parsing HTML content.\n",
        "4. Extracting textual data."
      ],
      "metadata": {
        "id": "BXs1h-Nbsovj"
      }
    },
    {
      "cell_type": "code",
      "source": [
        "# Importing necessary libraries\n",
        "import pandas as pd\n",
        "from datetime import datetime\n",
        "import matplotlib.pyplot as plt\n",
        "from bs4 import BeautifulSoup\n",
        "import nltk\n",
        "from nltk.sentiment.vader import SentimentIntensityAnalyzer\n",
        "import requests"
      ],
      "metadata": {
        "id": "r0y-3br9hamy"
      },
      "execution_count": 8,
      "outputs": []
    },
    {
      "cell_type": "code",
      "source": [
        "import pandas as pd\n",
        "import requests\n",
        "from bs4 import BeautifulSoup\n",
        "from datetime import datetime\n",
        "import warnings\n",
        "warnings.filterwarnings(\"ignore\")\n",
        "\n",
        "\n",
        "tickers_list = ['AMZN']\n",
        "news = pd.DataFrame(columns=['Date', 'Time', 'Headline', 'Ticker'])\n",
        "\n",
        "for ticker in tickers_list:\n",
        "    url = f'https://finviz.com/quote.ashx?t={ticker}&p=d'\n",
        "    ret = requests.get(\n",
        "        url,\n",
        "        headers={'User-Agent': 'Mozilla/5.0 (Windows NT 10.0; Win64; x64) AppleWebKit/537.36 (KHTML, like Gecko) Chrome/111.0.0.0 Safari/537.36'},\n",
        "    )\n",
        "\n",
        "    html = BeautifulSoup(ret.content, \"html.parser\")\n",
        "\n",
        "    try:\n",
        "        df = pd.read_html(\n",
        "            str(html),\n",
        "            attrs={'class': 'fullview-news-outer'}\n",
        "        )[0]\n",
        "    except Exception as e:\n",
        "        print(f\"Exception occurred while parsing news for {ticker}: {e}\")\n",
        "        continue\n",
        "\n",
        "    df.columns = ['Date', 'Headline']\n",
        "    df['Ticker'] = ticker\n",
        "\n",
        "    dateNTime = df['Date'].apply(lambda x: datetime.now().strftime('%Y-%m-%d') if x == 'Today' else x)\n",
        "    dateNTime = dateNTime.str.split(r' |,', expand=True).replace(\"\", None).ffill()\n",
        "    df = pd.merge(df, dateNTime, right_index=True, left_index=True).drop('Date', axis=1).rename(columns={0: 'Date', 1: 'Time'})\n",
        "    df = df[df[\"Headline\"].str.contains(\"Loading.\") == False].loc[:, ['Date', 'Time', 'Headline', 'Ticker']]\n",
        "\n",
        "    # Filter news for the present day\n",
        "    today = datetime.now().strftime('%Y-%m-%d')\n",
        "    df['Date'] = pd.to_datetime(df['Date'] + \" \" + df['Time'], errors='coerce')\n",
        "    df = df[df['Date'].dt.date == datetime.now().date()]\n",
        "\n",
        "    news = pd.concat([news, df], ignore_index=True)\n",
        "\n",
        "print(\"Final DataFrame:\")\n",
        "print(news)\n"
      ],
      "metadata": {
        "colab": {
          "base_uri": "https://localhost:8080/"
        },
        "id": "f0_TH2XquzyS",
        "outputId": "e7875fa2-39c9-436d-b83c-62010fc7fc95"
      },
      "execution_count": 9,
      "outputs": [
        {
          "output_type": "stream",
          "name": "stdout",
          "text": [
            "Final DataFrame:\n",
            "                  Date     Time  \\\n",
            "0  2024-04-12 12:56:00  12:56PM   \n",
            "1  2024-04-12 12:56:00  12:56PM   \n",
            "2  2024-04-12 12:56:00  12:56PM   \n",
            "3  2024-04-12 12:56:00  12:56PM   \n",
            "4  2024-04-12 12:56:00  12:56PM   \n",
            "..                 ...      ...   \n",
            "91 2024-04-12 22:08:00  10:08PM   \n",
            "92 2024-04-12 22:08:00  10:08PM   \n",
            "93 2024-04-12 22:08:00  10:08PM   \n",
            "94 2024-04-12 22:08:00  10:08PM   \n",
            "95 2024-04-12 17:25:00  05:25PM   \n",
            "\n",
            "                                             Headline Ticker  \n",
            "0   How Amazon and Target are shaking up frictionl...   AMZN  \n",
            "1   Crime-Ridden San Francisco Seeks To Allow Laws...   AMZN  \n",
            "2   Amazon Is Positioned as the Foundation for Ret...   AMZN  \n",
            "3   Here's How You Can Save Money on These 4 Dog E...   AMZN  \n",
            "4   Google seeks to monetize AI investments with A...   AMZN  \n",
            "..                                                ...    ...  \n",
            "91  3 No-Brainer Warren Buffett Stocks to Buy Righ...   AMZN  \n",
            "92  3 E-Commerce Stocks That Have Outperformed Ama...   AMZN  \n",
            "93  Forget the \"Magnificent Seven,\" All Eyes Shoul...   AMZN  \n",
            "94  Could Walmart Stock Be Worth $1 Trillion by 20...   AMZN  \n",
            "95  Key Takeaways From Google's Cloud Next Keynote...   AMZN  \n",
            "\n",
            "[96 rows x 4 columns]\n"
          ]
        }
      ]
    },
    {
      "cell_type": "markdown",
      "source": [
        "## Collecting data here for 5 stocks"
      ],
      "metadata": {
        "id": "lwOY-UmvHpyt"
      }
    },
    {
      "cell_type": "code",
      "source": [
        "import pandas as pd\n",
        "import requests\n",
        "from bs4 import BeautifulSoup\n",
        "from datetime import datetime\n",
        "import warnings\n",
        "warnings.filterwarnings(\"ignore\")\n",
        "\n",
        "tickers_list = ['AMZN', 'AAPL', 'GOOGL', 'JPM', 'NVDA']\n",
        "news = pd.DataFrame(columns=['Date', 'Time', 'Headline', 'Ticker'])\n",
        "\n",
        "for ticker in tickers_list:\n",
        "    url = f'https://finviz.com/quote.ashx?t={ticker}&p=d'\n",
        "    ret = requests.get(\n",
        "        url,\n",
        "        headers={'User-Agent': 'Mozilla/5.0 (Windows NT 10.0; Win64; x64) AppleWebKit/537.36 (KHTML, like Gecko) Chrome/111.0.0.0 Safari/537.36'},\n",
        "    )\n",
        "\n",
        "    html = BeautifulSoup(ret.content, \"html.parser\")\n",
        "\n",
        "    try:\n",
        "        df = pd.read_html(\n",
        "            str(html),\n",
        "            attrs={'class': 'fullview-news-outer'}\n",
        "        )[0]\n",
        "    except Exception as e:\n",
        "        print(f\"Exception occurred while parsing news for {ticker}: {e}\")\n",
        "        continue\n",
        "\n",
        "    df.columns = ['Date', 'Headline']\n",
        "    df['Ticker'] = ticker\n",
        "\n",
        "    dateNTime = df['Date'].apply(lambda x: datetime.now().strftime('%Y-%m-%d') if x == 'Today' else x)\n",
        "    dateNTime = dateNTime.str.split(r' |,', expand=True).replace(\"\", None).ffill()\n",
        "    df = pd.merge(df, dateNTime, right_index=True, left_index=True).drop('Date', axis=1).rename(columns={0: 'Date', 1: 'Time'})\n",
        "    df = df[df[\"Headline\"].str.contains(\"Loading.\") == False].loc[:, ['Date', 'Time', 'Headline', 'Ticker']]\n",
        "\n",
        "    # Filter news for the present day\n",
        "    today = datetime.now().strftime('%Y-%m-%d')\n",
        "    df['Date'] = pd.to_datetime(df['Date'] + \" \" + df['Time'], errors='coerce')\n",
        "    df = df[df['Date'].dt.date == datetime.now().date()]\n",
        "\n",
        "    news = pd.concat([news, df], ignore_index=True)\n",
        "\n",
        "print(\"Final DataFrame:\")\n",
        "print(news)\n"
      ],
      "metadata": {
        "colab": {
          "base_uri": "https://localhost:8080/"
        },
        "id": "64obbbf9w5FK",
        "outputId": "8341ce47-0d1f-4fe6-d61b-ddaddc43b62d"
      },
      "execution_count": 10,
      "outputs": [
        {
          "output_type": "stream",
          "name": "stdout",
          "text": [
            "Final DataFrame:\n",
            "                   Date     Time  \\\n",
            "0   2024-04-12 12:56:00  12:56PM   \n",
            "1   2024-04-12 12:56:00  12:56PM   \n",
            "2   2024-04-12 12:56:00  12:56PM   \n",
            "3   2024-04-12 12:56:00  12:56PM   \n",
            "4   2024-04-12 12:56:00  12:56PM   \n",
            "..                  ...      ...   \n",
            "475 2024-04-12 18:31:00  06:31PM   \n",
            "476 2024-04-12 18:31:00  06:31PM   \n",
            "477 2024-04-12 18:31:00  06:31PM   \n",
            "478 2024-04-12 18:31:00  06:31PM   \n",
            "479 2024-04-12 18:31:00  06:31PM   \n",
            "\n",
            "                                              Headline Ticker  \n",
            "0    How Amazon and Target are shaking up frictionl...   AMZN  \n",
            "1    Crime-Ridden San Francisco Seeks To Allow Laws...   AMZN  \n",
            "2    Amazon Is Positioned as the Foundation for Ret...   AMZN  \n",
            "3    Here's How You Can Save Money on These 4 Dog E...   AMZN  \n",
            "4    Google seeks to monetize AI investments with A...   AMZN  \n",
            "..                                                 ...    ...  \n",
            "475  Equity Hedge Funds Fail to Beat Benchmarks Des...   NVDA  \n",
            "476  What Nvidia Stock Investors Should Know About ...   NVDA  \n",
            "477  Nvidia Stock Is Down. A Lot Is Going Wrong. (B...   NVDA  \n",
            "478  March CPI report, Delta earnings, Nvidia: 3 Th...   NVDA  \n",
            "479  Nvidia (NVDA) Accounted for 24% of S&P 500 Ind...   NVDA  \n",
            "\n",
            "[480 rows x 4 columns]\n"
          ]
        }
      ]
    },
    {
      "cell_type": "code",
      "source": [
        "# Print unique values in the 'Date' column\n",
        "unique_dates = news['Date'].dt.date.unique()\n",
        "print(\"Unique dates:\")\n",
        "print(unique_dates)\n"
      ],
      "metadata": {
        "colab": {
          "base_uri": "https://localhost:8080/"
        },
        "id": "XJf8oR9Qu0eR",
        "outputId": "4036c9d3-77d6-4cee-b4fa-8aade1001e82"
      },
      "execution_count": 11,
      "outputs": [
        {
          "output_type": "stream",
          "name": "stdout",
          "text": [
            "Unique dates:\n",
            "[datetime.date(2024, 4, 12)]\n"
          ]
        }
      ]
    },
    {
      "cell_type": "code",
      "source": [
        "# Printing unique stocks\n",
        "unique_tickers = news['Ticker'].unique()\n",
        "print(\"Unique tickers:\")\n",
        "print(unique_tickers)"
      ],
      "metadata": {
        "colab": {
          "base_uri": "https://localhost:8080/"
        },
        "id": "dBVxJdv-Ijor",
        "outputId": "33dd715d-b590-435f-ce05-e822f9417f65"
      },
      "execution_count": 12,
      "outputs": [
        {
          "output_type": "stream",
          "name": "stdout",
          "text": [
            "Unique tickers:\n",
            "['AMZN' 'AAPL' 'GOOGL' 'JPM' 'NVDA']\n"
          ]
        }
      ]
    },
    {
      "cell_type": "code",
      "source": [],
      "metadata": {
        "id": "S_uUtGRYImGL"
      },
      "execution_count": 12,
      "outputs": []
    }
  ]
}